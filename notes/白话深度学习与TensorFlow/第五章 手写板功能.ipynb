{
 "nbformat": 4,
 "nbformat_minor": 2,
 "metadata": {
  "language_info": {
   "name": "python",
   "codemirror_mode": {
    "name": "ipython",
    "version": 3
   }
  },
  "orig_nbformat": 2,
  "file_extension": ".py",
  "mimetype": "text/x-python",
  "name": "python",
  "npconvert_exporter": "python",
  "pygments_lexer": "ipython3",
  "version": 3
 },
 "cells": [
  {
   "cell_type": "markdown",
   "execution_count": null,
   "metadata": {},
   "outputs": [],
   "source": [
    "# 第五章 手写板功能\n",
    "\n",
    "## 5.1 MNIST介绍\n",
    "\n",
    "## 5.2 使用TensorFlow完成实验\n",
    "\n",
    "## 5.3 神经网络为什么那么强\n",
    "\n",
    "${X_2}$"
   ]
  }
 ]
}