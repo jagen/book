{
 "nbformat": 4,
 "nbformat_minor": 2,
 "metadata": {
  "language_info": {
   "name": "python",
   "codemirror_mode": {
    "name": "ipython",
    "version": 3
   }
  },
  "orig_nbformat": 2,
  "file_extension": ".py",
  "mimetype": "text/x-python",
  "name": "python",
  "npconvert_exporter": "python",
  "pygments_lexer": "ipython3",
  "version": 3
 },
 "cells": [
  {
   "cell_type": "markdown",
   "execution_count": null,
   "metadata": {},
   "outputs": [],
   "source": [
    "# 第1章 导论\n",
    "\n",
    "我们把能够使用自然语言与人类会话的程序称为**会话代理（conversational agents）**或者**对话系统（dialogue systems）**。我们要研究这样的现代会话代理的各个组成部分，其中包括语音输入\\[自动语音识别（automatic speech recognition）和自然语言理解（natural language processing）\\]和语言输出\\[对话与回答的规划（dialogue and response planning）以及语音合成（speech synthesis）\\]。\n",
    "\n",
    "**机器翻译（machine translation）**的目标就是自动地把文献从一种语言翻译成另一种语言。\n",
    "\n",
    "除了机器翻译之外，还有**基于网络的问答系统（Web-based question answering）**。"
   ]
  },
  {
   "cell_type": "markdown",
   "execution_count": null,
   "metadata": {},
   "outputs": [],
   "source": [
    "## 1.1 语言与语言处理中的知识\n",
    "\n",
    "产生并且识别单词的各种变体（例如，识别Doors是复数）要求形态学（morphology）方面的知识，说明单词是怎样分解成他的组成成分的，而且这些成分又是怎样负荷如单数和复数这样的意义的。\n",
    "\n",
    "关于单词的排列顺序以及组词成句的知识，称为**句法（syntax）**。\n",
    "\n",
    "我们需要关于**词汇语义学（lexical semantics）**的知识以便了解问句所有单词的意义，还需要**组合语义学（compositional semantics）**的知识。\n",
    "\n",
    "关于说话人使用句子来表达意图的行为的知识就是**语用学（pragmatic）**或**对话（dialogue）**的知识。此外，还需要**话语(discourse)**的知识。\n",
    "\n",
    "**同指消解（conreference resolution）**的任务需要确认诸如that或it或she这样的代词就涉及前面话语中的哪一个部分的知识。\n",
    "\n",
    "在复杂的语言行为中需要的语言知识可以分为6个方面：\n",
    "\n",
    "- 语言学与音系学——关于语言语音的知识。\n",
    "- 形态学——关于词的有意义的组成成分的知识。\n",
    "- 句法学——关于词与词之间结构关系的知识。\n",
    "- 语义学——关于意义的知识。\n",
    "- 语用学——关于意义与说话人的目的和意图之间关系的知识。\n",
    "- 话语学——关于比一个单独的话段更大的语言单位的知识。"
   ]
  },
  {
   "cell_type": "markdown",
   "execution_count": null,
   "metadata": {},
   "outputs": [],
   "source": [
    "## 1.2 歧义\n",
    "\n",
    "语音和语言计算机处理的绝大多数或者全部的研究可以看成是在其中的某个层面上消解歧义。\n",
    "\n",
    "词类排歧和语义排歧是**词汇排歧（lexical disambiguation）**的两个主要内容。此外，还有**句法排歧（syntactic disambiguation）**，可以通过**概率剖析（probabilistic parsing）**的方法来解决。\n",
    "\n",
    "判断一个句子是陈述句还是疑问句，可以通过**语言行为解释（speech act interpretation）**的办法来解决。\n"
   ]
  },
  {
   "cell_type": "markdown",
   "execution_count": null,
   "metadata": {},
   "outputs": [],
   "source": [
    "## 1.3 模型和算法\n",
    "\n",
    "重要的模型有：**状态机器（state machine）**、**形式规则系统（formal rule system）**、**逻辑（logic）**、**概率模型（probabilistic models）**和**向量空间模型（vector-space models）**。\n",
    "\n",
    "重要的算法有：**动态规划（dynamic programming）**、**状态空间搜索（state space search）**、分类器（classifiers）和期望最大算法（Expectation-Maximization，EM）的机器学习算法以及其他的学习算法。\n",
    "\n",
    "状态机器就是**形式模型**，包括状态、状态之间的转移以及输入表示等。这种模型的变体有**确定性的有限状态自动机机（deterministic finite-state automata）**、**非确定性的有穷状态自动机（non-deterministic finite-state automata）**和**有限状态转录机（finite-state transducers）**\n",
    "\n",
    "与形式模型有紧密联系的是形式正则系统。最重要的有**正则语法（regular grammars）**、**正则关系（regular relations）**、**上下文无关语法（context-free grammars）**、**特征增益语法（feature-augmented grammars）**以及这些语法相应的概率语法变体。\n",
    "\n",
    "状态机器和形式规则系统是用于处理音系学、形态学和句法学的主要工具。\n",
    "\n",
    "对于获取语言知识起着关键性作用的第三种模型是基于逻辑的模型。**一阶逻辑（first order logic）**，即**谓词演算（predicate）**，以及诸如$\\lambda$运算（lambda-calculus）、特征结构（feature structures）、语义基元（semantic primitives）等有关的形式化方法。\n",
    "\n",
    "概率论是我们获取语言知识的技术中的最为关键的一部分。其他的各种模型都可以使用概率得到进一步的提高。状态机可以使用概率论来提升，成为**加权自动机（weighted automation）**、或马尔可夫模型（Markov model）。在自然语言处理的领域内到处都在使用隐马尔可夫模型（Hidden Markov Models，HMM）。概率论的一个关键性优点是能解决前面我们讨论过的各种歧义问题。\n",
    "\n",
    "基于线性代数的向量空间模型是信息检索和词义处理的基础。\n",
    "\n",
    "对于那些涉及状态机器的非概率任务，我们使用诸如**深度优先搜索（depth-first search）**之类的众所周知的图算法。对于那些具有概率的任务，我们使用**最佳优先搜索算法（best-first search）**和**A\\*搜索算法（A\\* search）**，并依靠动态规划算法来提高计算机的可循性。\n",
    "\n",
    "**分类器（classifiers）**和**序列模型（sequence models）**之类的机器学习工具在自然语言处理的很多工作中起着重要作用。\n",
    "\n",
    "判断一个单词的拼写是否正确，可以使用**决策树（decision trees）**、**支持向量机（support vector machines）**、**高斯混合矩阵（Gaussian mixture models）**和**逻辑回归（logistic regression）**等分类器。\n",
    "\n",
    "使用**交叉验证（cross-validation）**这样的统计技术，细心地对训练系统进行评测。"
   ]
  },
  {
   "cell_type": "markdown",
   "execution_count": null,
   "metadata": {},
   "outputs": [],
   "source": [
    "## 1.4 语言、思维和理解\n"
   ]
  },
  {
   "cell_type": "markdown",
   "execution_count": null,
   "metadata": {},
   "outputs": [],
   "source": [
    "## 1.5 科学现状与近期发展"
   ]
  },
  {
   "cell_type": "markdown",
   "execution_count": null,
   "metadata": {},
   "outputs": [],
   "source": []
  }
 ]
}