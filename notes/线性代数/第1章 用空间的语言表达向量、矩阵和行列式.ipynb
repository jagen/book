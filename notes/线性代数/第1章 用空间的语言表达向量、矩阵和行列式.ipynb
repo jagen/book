{
 "nbformat": 4,
 "nbformat_minor": 2,
 "metadata": {
  "language_info": {
   "name": "python",
   "codemirror_mode": {
    "name": "ipython",
    "version": 3
   }
  },
  "orig_nbformat": 2,
  "file_extension": ".py",
  "mimetype": "text/x-python",
  "name": "python",
  "npconvert_exporter": "python",
  "pygments_lexer": "ipython3",
  "version": 3
 },
 "cells": [
  {
   "cell_type": "markdown",
   "metadata": {},
   "source": [
    "# 第1章 用空间的语言表达向量、矩阵和行列式\n",
    "\n",
    "| |字面意思|实际意思|\n",
    "| :-: | :---------: | :-------------------------------: |\n",
    "|向量|排成一列的数字|有向线段（带有方向的线段）、空间内的点|\n",
    "|矩阵|排成矩阵的数字|空间到空间的映射|\n",
    "|行列式|麻烦的计算|上面的映射对应的“体积扩大率”|"
   ]
  }
 ]
}