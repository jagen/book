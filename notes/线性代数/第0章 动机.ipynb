{
 "nbformat": 4,
 "nbformat_minor": 2,
 "metadata": {
  "language_info": {
   "name": "python",
   "codemirror_mode": {
    "name": "ipython",
    "version": 3
   }
  },
  "orig_nbformat": 2,
  "file_extension": ".py",
  "mimetype": "text/x-python",
  "name": "python",
  "npconvert_exporter": "python",
  "pygments_lexer": "ipython3",
  "version": 3
 },
 "cells": [
  {
   "cell_type": "markdown",
   "metadata": {},
   "source": [
    "# 第0章 动机"
   ]
  },
  {
   "cell_type": "markdown",
   "metadata": {},
   "source": [
    "## 0.1 空间想象给我带来的直观感受\n",
    "\n",
    "作为线性代数施展的作用的舞台，向量空间是对现实空间进行一定程度的抽象化后得到的产物。\n",
    "\n",
    "一旦将数据诠释为高维空间中的点，我们就可以利用自己的直观感受，通过“空间”来理解数据的行为。\n",
    "\n",
    "有“空间”的地方，就是线性代数大显身手的地方。"
   ]
  },
  {
   "cell_type": "markdown",
   "metadata": {},
   "source": [
    "## 0.2 有效利用线性近似的手段\n",
    "\n",
    "用图形来打比方的话，线性代数的研究对象就是平面、直线这些水平的、笔直的东西。\n",
    "\n",
    "曲线也好，曲面也好，只要将其放大来看，就都可以看成是直的。这样的话，只要在小范围进行考察，那么通过用“平直的东西”来进行近似，也一定可以得到很有用的结果。"
   ]
  }
 ]
}